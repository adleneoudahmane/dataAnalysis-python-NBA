{
 "cells": [
  {
   "cell_type": "markdown",
   "id": "0a4d8a7c-a43f-4b88-bb17-dc18efcf8ba6",
   "metadata": {},
   "source": [
    "# NBA All-Star Evolution <img src=\"https://content.sportslogos.net/logos/6/980/full/4585__nba_all-star_game-secondary-2021.png\" alt=\"NBA All-Star logo\" style=\"float: right; width: 12%;\">\n",
    "\n",
    "### <span style=\"color:#83898b\">*NBA All-Star Teams and the Evolution of 3-Point Shooting*</span>\n",
    "*NAME: Adlene Abdelghani Oudahmane*"
   ]
  },
  {
   "cell_type": "markdown",
   "id": "d2eb7491-1c1d-4db5-bff1-4eff24de7161",
   "metadata": {},
   "source": [
    "The NBA All-Star Game, which has featured the greatest players in the league in a thrilling East vs. West format. Immense rivalry between Bill Russell and Wilt Chamberlain and the brilliance of brilliance Johnson and Larry Bird in the 1980s are only two examples of the memorable moments the game has produced. A significant step forward in globalisation was taken in 1992 with the introduction of the \"Dream Team\" at the Olympics in Barcelona, which included luminaries such as Michael Jordan. The All-Star Game, which features the best players, has come to represent the NBA's global influence. It is still a worldwide spectacle that unites fans from all around the world thanks to players like LeBron James and Kobe Bryant. This project explores the rich history of the NBA, concentrating on the highly regarded NBA All-Star Game, which has been a staple of basketball culture since the league's founding in 1951. The All-Star Game is a showcase for the best players in the league and represents the pinnacle of basketball performance. Analysing each team's impact on NBA All-Star choices is the goal of the study, which is similar to examining the various contributions of NBA players.Further down into our investigation is a careful analysis of the All-Star selection procedure, with a focus on the development of 3-point shooting statistics. Finding subtle patterns that shed light on the complex dynamics of team contributions and the dynamic tactics around 3-point shooting in the NBA is the goal."
   ]
  },
  {
   "cell_type": "markdown",
   "id": "c03911bc-9b98-4650-a8db-3ce8773764e2",
   "metadata": {},
   "source": [
    "## Methods\n",
    "### Data Collection"
   ]
  },
  {
   "cell_type": "markdown",
   "id": "6fea5249-5921-403c-8ae2-72691f9b70b9",
   "metadata": {},
   "source": [
    "A subset of data from the Titanic is maintained publicly at [Rdatasets](https://vincentarelbundock.github.io/Rdatasets/), a free online resource of general datasets [1]."
   ]
  },
  {
   "cell_type": "code",
   "execution_count": 9,
   "id": "629947ea-137a-468e-82b8-62073914d2a5",
   "metadata": {},
   "outputs": [],
   "source": [
    "import pandas as pd\n",
    "import seaborn as sns\n",
    "import matplotlib.pyplot as plt\n",
    "from IPython.display import display"
   ]
  },
  {
   "cell_type": "code",
   "execution_count": 10,
   "id": "07565eb9-67a2-4d3f-9ae8-b5cea30a5a27",
   "metadata": {},
   "outputs": [],
   "source": [
    "NBA = pd.read_csv(\"final_data.csv\")"
   ]
  },
  {
   "cell_type": "markdown",
   "id": "622fcf79-1b64-410d-a50e-c748c6adf33f",
   "metadata": {},
   "source": [
    "### Data Cleaning"
   ]
  },
  {
   "cell_type": "markdown",
   "id": "1d16a250-daf7-43b7-842f-611c05f4d072",
   "metadata": {},
   "source": [
    "The NBA All-Star dataset initially had columns with unclear names, prompting me to rename them. To streamline the analysis, I selectively chose relevant columns and created a new column by combining the first and last names. Additionally, for clearer printing outputs, I adjusted the floating-point precision.\n"
   ]
  },
  {
   "cell_type": "code",
   "execution_count": 11,
   "id": "7d0f1575-9268-4e5b-8ec5-fac1fc75d08e",
   "metadata": {},
   "outputs": [],
   "source": [
    "#adjucting floating-point precision\n",
    "pd.set_option('display.precision', 2)\n",
    "\n",
    "#Selecting specified columns\n",
    "selected_columns = ['first', 'last', 'team', 'year', 'games_played', 'fg3m', 'pts']\n",
    "NBA = NBA[selected_columns]\n",
    "\n",
    "# combining first and last together and making it the first column\n",
    "NBA['full_name'] = NBA['first'] + ' ' + NBA['last']\n",
    "NBA = NBA.drop(['first', 'last'], axis=1)\n",
    "columns_order = ['full_name'] + [col for col in NBA.columns if col != 'full_name']\n",
    "NBA = NBA[columns_order]\n",
    "\n",
    "#Renaming columns for clarity\n",
    "NBA.columns = [\"full_name\", \"team\", \"year\", \"games_played\", \"average_3pointers\", \"average_points\"]\n"
   ]
  },
  {
   "cell_type": "markdown",
   "id": "1ddc2d8a-a832-4fe0-8d46-62f60a71d860",
   "metadata": {},
   "source": [
    "\n",
    "This database includes a player with missing values in the statistical data, while retaining information such as name, year, and team. I plan to utilize this player for the initial observation of NBA teams but will exclude them from the second analysis."
   ]
  },
  {
   "cell_type": "code",
   "execution_count": 12,
   "id": "fce4ffbd-cb81-4e34-8f43-4ce88095d0f0",
   "metadata": {},
   "outputs": [
    {
     "data": {
      "text/html": [
       "<div>\n",
       "<style scoped>\n",
       "    .dataframe tbody tr th:only-of-type {\n",
       "        vertical-align: middle;\n",
       "    }\n",
       "\n",
       "    .dataframe tbody tr th {\n",
       "        vertical-align: top;\n",
       "    }\n",
       "\n",
       "    .dataframe thead th {\n",
       "        text-align: right;\n",
       "    }\n",
       "</style>\n",
       "<table border=\"1\" class=\"dataframe\">\n",
       "  <thead>\n",
       "    <tr style=\"text-align: right;\">\n",
       "      <th></th>\n",
       "      <th>full_name</th>\n",
       "      <th>team</th>\n",
       "      <th>year</th>\n",
       "      <th>games_played</th>\n",
       "      <th>average_3pointers</th>\n",
       "      <th>average_points</th>\n",
       "    </tr>\n",
       "  </thead>\n",
       "  <tbody>\n",
       "    <tr>\n",
       "      <th>261</th>\n",
       "      <td>Magic Johnson</td>\n",
       "      <td>LAL</td>\n",
       "      <td>1991</td>\n",
       "      <td>NaN</td>\n",
       "      <td>NaN</td>\n",
       "      <td>NaN</td>\n",
       "    </tr>\n",
       "  </tbody>\n",
       "</table>\n",
       "</div>"
      ],
      "text/plain": [
       "         full_name team  year  games_played  average_3pointers  average_points\n",
       "261  Magic Johnson  LAL  1991           NaN                NaN             NaN"
      ]
     },
     "execution_count": 12,
     "metadata": {},
     "output_type": "execute_result"
    }
   ],
   "source": [
    "#checking for Nan\n",
    "NBA[NBA.average_points.isna()]\n"
   ]
  },
  {
   "cell_type": "markdown",
   "id": "1bc9b32a-4ca6-47bb-92e1-d8c673e551bb",
   "metadata": {},
   "source": [
    "## Analyses\n",
    "\n",
    "This database encompasses the complete roster of NBA All-Star players spanning the years 1980 to 2022.\n"
   ]
  },
  {
   "cell_type": "markdown",
   "id": "541b085a-4a61-4463-925d-3d729cc11d2e",
   "metadata": {},
   "source": [
    "I will examine the player contributions from each team to the NBA All-Star selections and track the evolution of 3-point scoring across different eras.\n"
   ]
  },
  {
   "cell_type": "markdown",
   "id": "c7f21dc4-a887-49d9-9104-eda4fb4c3b12",
   "metadata": {},
   "source": [
    "### Distributions\n",
    "I will begin by exploring the number of All-Starts from each team."
   ]
  },
  {
   "cell_type": "code",
   "execution_count": 13,
   "id": "4baf2287-f082-4c46-bb7f-93c53da6efbd",
   "metadata": {},
   "outputs": [
    {
     "data": {
      "image/png": "[encoded data removed]",
      "text/plain": [
       "<Figure size 1440x432 with 1 Axes>"
      ]
     },
     "metadata": {
      "needs_background": "light"
     },
     "output_type": "display_data"
    }
   ],
   "source": [
    "# Grouping by team and counting the number of All-Stars\n",
    "\n",
    "#size of the graph\n",
    "plt.figure(figsize=(20, 6))\n",
    "\n",
    "# Plotting the countplot with Seaborn\n",
    "sns.countplot(data=NBA, x=\"team\", color='blue')\n",
    "plt.xlabel('Team')\n",
    "plt.ylabel('Number of Players')\n",
    "plt.title('Number of Players in Each Team')\n",
    "plt.show()"
   ]
  },
  {
   "cell_type": "markdown",
   "id": "6142c827-58f0-4133-816f-0b7f59ca07c4",
   "metadata": {},
   "source": [
    "The table below presents number of All-Starts from each team."
   ]
  },
  {
   "cell_type": "code",
   "execution_count": 14,
   "id": "b27c2e63-d9f6-41d3-8a1f-837171861396",
   "metadata": {},
   "outputs": [
    {
     "data": {
      "text/html": [
       "<div>\n",
       "<style scoped>\n",
       "    .dataframe tbody tr th:only-of-type {\n",
       "        vertical-align: middle;\n",
       "    }\n",
       "\n",
       "    .dataframe tbody tr th {\n",
       "        vertical-align: top;\n",
       "    }\n",
       "\n",
       "    .dataframe thead th {\n",
       "        text-align: right;\n",
       "    }\n",
       "</style>\n",
       "<table border=\"1\" class=\"dataframe\">\n",
       "  <thead>\n",
       "    <tr style=\"text-align: right;\">\n",
       "      <th></th>\n",
       "      <th>teams</th>\n",
       "      <th>count</th>\n",
       "    </tr>\n",
       "  </thead>\n",
       "  <tbody>\n",
       "    <tr>\n",
       "      <th>0</th>\n",
       "      <td>BOS</td>\n",
       "      <td>65</td>\n",
       "    </tr>\n",
       "    <tr>\n",
       "      <th>1</th>\n",
       "      <td>LAL</td>\n",
       "      <td>63</td>\n",
       "    </tr>\n",
       "    <tr>\n",
       "      <th>2</th>\n",
       "      <td>SAS</td>\n",
       "      <td>51</td>\n",
       "    </tr>\n",
       "    <tr>\n",
       "      <th>3</th>\n",
       "      <td>DET</td>\n",
       "      <td>48</td>\n",
       "    </tr>\n",
       "    <tr>\n",
       "      <th>4</th>\n",
       "      <td>PHO</td>\n",
       "      <td>44</td>\n",
       "    </tr>\n",
       "    <tr>\n",
       "      <th>5</th>\n",
       "      <td>PHI</td>\n",
       "      <td>43</td>\n",
       "    </tr>\n",
       "    <tr>\n",
       "      <th>6</th>\n",
       "      <td>UTA</td>\n",
       "      <td>42</td>\n",
       "    </tr>\n",
       "    <tr>\n",
       "      <th>7</th>\n",
       "      <td>HOU</td>\n",
       "      <td>41</td>\n",
       "    </tr>\n",
       "    <tr>\n",
       "      <th>8</th>\n",
       "      <td>CHI</td>\n",
       "      <td>39</td>\n",
       "    </tr>\n",
       "    <tr>\n",
       "      <th>9</th>\n",
       "      <td>ATL</td>\n",
       "      <td>37</td>\n",
       "    </tr>\n",
       "    <tr>\n",
       "      <th>10</th>\n",
       "      <td>CLE</td>\n",
       "      <td>36</td>\n",
       "    </tr>\n",
       "    <tr>\n",
       "      <th>11</th>\n",
       "      <td>SEA</td>\n",
       "      <td>35</td>\n",
       "    </tr>\n",
       "    <tr>\n",
       "      <th>12</th>\n",
       "      <td>MIA</td>\n",
       "      <td>35</td>\n",
       "    </tr>\n",
       "    <tr>\n",
       "      <th>13</th>\n",
       "      <td>DAL</td>\n",
       "      <td>35</td>\n",
       "    </tr>\n",
       "    <tr>\n",
       "      <th>14</th>\n",
       "      <td>GSW</td>\n",
       "      <td>34</td>\n",
       "    </tr>\n",
       "    <tr>\n",
       "      <th>15</th>\n",
       "      <td>MIL</td>\n",
       "      <td>32</td>\n",
       "    </tr>\n",
       "    <tr>\n",
       "      <th>16</th>\n",
       "      <td>NYK</td>\n",
       "      <td>30</td>\n",
       "    </tr>\n",
       "    <tr>\n",
       "      <th>17</th>\n",
       "      <td>POR</td>\n",
       "      <td>29</td>\n",
       "    </tr>\n",
       "    <tr>\n",
       "      <th>18</th>\n",
       "      <td>DEN</td>\n",
       "      <td>29</td>\n",
       "    </tr>\n",
       "    <tr>\n",
       "      <th>19</th>\n",
       "      <td>IND</td>\n",
       "      <td>26</td>\n",
       "    </tr>\n",
       "    <tr>\n",
       "      <th>20</th>\n",
       "      <td>TOR</td>\n",
       "      <td>23</td>\n",
       "    </tr>\n",
       "    <tr>\n",
       "      <th>21</th>\n",
       "      <td>ORL</td>\n",
       "      <td>22</td>\n",
       "    </tr>\n",
       "    <tr>\n",
       "      <th>22</th>\n",
       "      <td>LAC</td>\n",
       "      <td>21</td>\n",
       "    </tr>\n",
       "    <tr>\n",
       "      <th>23</th>\n",
       "      <td>MIN</td>\n",
       "      <td>20</td>\n",
       "    </tr>\n",
       "    <tr>\n",
       "      <th>24</th>\n",
       "      <td>NJN</td>\n",
       "      <td>19</td>\n",
       "    </tr>\n",
       "    <tr>\n",
       "      <th>25</th>\n",
       "      <td>OKC</td>\n",
       "      <td>19</td>\n",
       "    </tr>\n",
       "    <tr>\n",
       "      <th>26</th>\n",
       "      <td>SAC</td>\n",
       "      <td>18</td>\n",
       "    </tr>\n",
       "    <tr>\n",
       "      <th>27</th>\n",
       "      <td>WAS</td>\n",
       "      <td>15</td>\n",
       "    </tr>\n",
       "    <tr>\n",
       "      <th>28</th>\n",
       "      <td>WSB</td>\n",
       "      <td>9</td>\n",
       "    </tr>\n",
       "    <tr>\n",
       "      <th>29</th>\n",
       "      <td>MEM</td>\n",
       "      <td>9</td>\n",
       "    </tr>\n",
       "    <tr>\n",
       "      <th>30</th>\n",
       "      <td>CHH</td>\n",
       "      <td>8</td>\n",
       "    </tr>\n",
       "    <tr>\n",
       "      <th>31</th>\n",
       "      <td>NOH</td>\n",
       "      <td>8</td>\n",
       "    </tr>\n",
       "    <tr>\n",
       "      <th>32</th>\n",
       "      <td>NOP</td>\n",
       "      <td>7</td>\n",
       "    </tr>\n",
       "    <tr>\n",
       "      <th>33</th>\n",
       "      <td>BRK</td>\n",
       "      <td>5</td>\n",
       "    </tr>\n",
       "    <tr>\n",
       "      <th>34</th>\n",
       "      <td>CHO</td>\n",
       "      <td>4</td>\n",
       "    </tr>\n",
       "    <tr>\n",
       "      <th>35</th>\n",
       "      <td>KCK</td>\n",
       "      <td>1</td>\n",
       "    </tr>\n",
       "    <tr>\n",
       "      <th>36</th>\n",
       "      <td>CHA</td>\n",
       "      <td>1</td>\n",
       "    </tr>\n",
       "  </tbody>\n",
       "</table>\n",
       "</div>"
      ],
      "text/plain": [
       "   teams  count\n",
       "0    BOS     65\n",
       "1    LAL     63\n",
       "2    SAS     51\n",
       "3    DET     48\n",
       "4    PHO     44\n",
       "5    PHI     43\n",
       "6    UTA     42\n",
       "7    HOU     41\n",
       "8    CHI     39\n",
       "9    ATL     37\n",
       "10   CLE     36\n",
       "11   SEA     35\n",
       "12   MIA     35\n",
       "13   DAL     35\n",
       "14   GSW     34\n",
       "15   MIL     32\n",
       "16   NYK     30\n",
       "17   POR     29\n",
       "18   DEN     29\n",
       "19   IND     26\n",
       "20   TOR     23\n",
       "21   ORL     22\n",
       "22   LAC     21\n",
       "23   MIN     20\n",
       "24   NJN     19\n",
       "25   OKC     19\n",
       "26   SAC     18\n",
       "27   WAS     15\n",
       "28   WSB      9\n",
       "29   MEM      9\n",
       "30   CHH      8\n",
       "31   NOH      8\n",
       "32   NOP      7\n",
       "33   BRK      5\n",
       "34   CHO      4\n",
       "35   KCK      1\n",
       "36   CHA      1"
      ]
     },
     "metadata": {},
     "output_type": "display_data"
    }
   ],
   "source": [
    "counts = NBA['team'].value_counts().reset_index().rename(columns={'index': 'teams', 'team': 'count'})\n",
    "# Displaying the resulting DataFrame\n",
    "display(counts)"
   ]
  },
  {
   "cell_type": "markdown",
   "id": "652011aa-dc63-41bf-aaf7-b0ba6429ca3b",
   "metadata": {},
   "source": [
    "dropping Magic Johnson from the our data"
   ]
  },
  {
   "cell_type": "code",
   "execution_count": 15,
   "id": "20c311ad-865e-4467-b790-95d8c7f7843e",
   "metadata": {},
   "outputs": [],
   "source": [
    "NBA = NBA.dropna(axis=0)"
   ]
  },
  {
   "cell_type": "markdown",
   "id": "05c4a0ca-66d1-40f1-a519-54900664a809",
   "metadata": {},
   "source": [
    "evolution of the 3 pointer throughtout the years graph"
   ]
  },
  {
   "cell_type": "code",
   "execution_count": 16,
   "id": "342d137d-1240-4afe-9346-a48c5020b4df",
   "metadata": {},
   "outputs": [
    {
     "data": {
      "image/png": "[encoded data removed]",
      "text/plain": [
       "<Figure size 1440x432 with 1 Axes>"
      ]
     },
     "metadata": {
      "needs_background": "light"
     },
     "output_type": "display_data"
    }
   ],
   "source": [
    "grouped_data = NBA.groupby('year')\n",
    "\n",
    "# Step 2: Calculate total 3-pointers made per year\n",
    "total_3_pointers_per_year = grouped_data['average_3pointers'].sum().reset_index()\n",
    "\n",
    "# Step 3: Visualize the change over time\n",
    "plt.figure(figsize=(20, 6))\n",
    "plt.plot(total_3_pointers_per_year['year'], total_3_pointers_per_year['average_3pointers'], marker='o')\n",
    "plt.title('Total 3-Pointers Made Over the Years')\n",
    "plt.xlabel('Year')\n",
    "plt.ylabel('Total 3-Pointers Made')\n",
    "plt.grid(True)\n",
    "plt.show()"
   ]
  },
  {
   "cell_type": "markdown",
   "id": "c2c76048-7491-43e3-9f7c-05ef6b0f87c1",
   "metadata": {},
   "source": [
    "## Discussion ##"
   ]
  },
  {
   "cell_type": "markdown",
   "id": "a60c21c4-942c-481b-8504-4d39d4376389",
   "metadata": {},
   "source": [
    "For this analysis, I dug into the NBA All-Star database and found intriguing relationships between All-Star contributions and team performance. The Lakers and Celtics were shown in the graphs as perennial challengers, with the former having the greatest player contributions to the All-Star squad and the latter having won the most NBA championships. The strong link between individual brilliance and team success is shown by the association between continuous team achievement and being selected to the All-Star squad. The graphs also showed a noteworthy anomaly for 2013, which was ascribed to Stephen Curry's extraordinary three-point shooting ability, which not only made him the league's best shooter but also would later make him MVP. This crucial year perfectly captures the NBA's dynamic character and the ongoing development of extraordinary talent that is rewriting the league's history."
   ]
  },
  {
   "cell_type": "markdown",
   "id": "7baa9755-dbc3-479f-97a0-6c7def284fcf",
   "metadata": {},
   "source": [
    "## References\n",
    "1. Source data - https://www.kaggle.com/\n",
    "2. Pandas for data manipulation\n",
    "3. Seaborn for data viz\n",
    "4. Matplotlib for data viz "
   ]
  }
 ],
 "metadata": {
  "kernelspec": {
   "display_name": "Python 3 (ipykernel)",
   "language": "python",
   "name": "python3"
  },
  "language_info": {
   "codemirror_mode": {
    "name": "ipython",
    "version": 3
   },
   "file_extension": ".py",
   "mimetype": "text/x-python",
   "name": "python",
   "nbconvert_exporter": "python",
   "pygments_lexer": "ipython3",
   "version": "3.9.12"
  }
 },
 "nbformat": 4,
 "nbformat_minor": 5
}
